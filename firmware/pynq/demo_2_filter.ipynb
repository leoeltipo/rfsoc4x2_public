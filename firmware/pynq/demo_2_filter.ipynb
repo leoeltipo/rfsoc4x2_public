{
 "cells": [
  {
   "cell_type": "markdown",
   "metadata": {},
   "source": [
    "# Cascading Analysis and Synthesis PFBs\n",
    "This example uses an ADC-DAC pair. The ADC feeds an Analysis Polyphase Filter Bank, which is cascaded with a Synthesis Polyphase Filter Bank with its output connected to the DAC. There is a block between both PFBs which is a simple channel mask. When the corresponding bit is set to logic 1, the channel on the Analysis PFB connects with the channel on the Synthesis PFB. When the bit is set to logic 0, the channel is zeroed-out and the corresponding band is eliminated on the overall response.\n",
    "\n",
    "To run this example use the following configuration:\n",
    "* Input : ADC_C\n",
    "* Output: DAC_A\n",
    "\n",
    "Ideally, you should be using an external VNA instrument or similar in order to get the frequency response of the filter. Output power on the VNA should be set to -30 dBm as it may saturate with higher power.\n",
    "\n",
    "### Mixer and decimation/interpolation on converters\n",
    "The internal fine-frequency mixer block is used on both ADC and DAC. The ADC applies a FIR low-pass followed by 4 times decimation. The frequency of the mixer can be programmed from the provided Python driver.\n",
    "The DAC has a similar architecture, with 4 times interpolation followed by low-pass FIR filtering. This goes then into the mixer. Again, the mixer frequency can be controlled from the provided function.\n",
    "A convenient class called FilterChain is provided with most of the functionality that is needed to use the filter. This also includes a convenient set_mixer_frequency function that sets both ADC and DAC mixer frequencies. It also takes care of mirroring, by applying a positive fmix on the DAC and negative fmix on the ADC to avoid recovering the opposite side-band.\n",
    "\n",
    "### Filter programming\n",
    "The filter consists of a simple bit mask that either connects or not one channel from the Analysis PFB into the corresponding channel of the Synthesis PFB. Convenient functions are provided to enable all channels, disable all channels, or define frequency bands for the filter that will internally map to specific PFB channels and set the corresponding bits."
   ]
  },
  {
   "cell_type": "code",
   "execution_count": 17,
   "metadata": {},
   "outputs": [],
   "source": [
    "import sys\n",
    "sys.path.append('./soft')\n",
    "\n",
    "from pfbs import *\n",
    "\n",
    "import numpy as np\n",
    "import matplotlib.pyplot as plt\n",
    "from numpy.fft import fft, fftshift"
   ]
  },
  {
   "cell_type": "code",
   "execution_count": 18,
   "metadata": {
    "scrolled": false
   },
   "outputs": [
    {
     "name": "stdout",
     "output_type": "stream",
     "text": [
      "\n",
      "QICK configuration:\n",
      "\n",
      "\tBoard: RFSoC4x2\n",
      "\n",
      "\tDual Chains\n",
      "\tDual 0: \n",
      "\t\tADC: 224_0, fs = 4915.2 MHz, Decimation    = 4\n",
      "\t\tDAC: 228_0, fs = 4915.2 MHz, Interpolation = 4\n",
      "\t\tPFB: fs = 2.4 MHz, fc = 1.2 MHz, 1024 channels\n",
      "\n",
      "\tFilter Chains\n",
      "\tFilter 0: \n",
      "\t\tADC: 224_1, fs = 4915.2 MHz, Decimation    = 4\n",
      "\t\tDAC: 230_0, fs = 4915.2 MHz, Interpolation = 4\n",
      "\t\tPFB: fs = 9.6 MHz, fc = 4.8 MHz, 256 channels\n"
     ]
    }
   ],
   "source": [
    "# Initialize Firmware.\n",
    "soc = TopSoc('./pfbs_v1.bit')\n",
    "\n",
    "# Print information.\n",
    "print(soc)"
   ]
  },
  {
   "cell_type": "code",
   "execution_count": 19,
   "metadata": {},
   "outputs": [],
   "source": [
    "###############################\n",
    "### Initialize Filter Chain ###\n",
    "###############################\n",
    "\n",
    "# Filter chain: includes both analysis and synthesis, cascaded.\n",
    "filt = FilterChain(soc, chain=soc['filter'][0])"
   ]
  },
  {
   "cell_type": "code",
   "execution_count": 20,
   "metadata": {},
   "outputs": [],
   "source": [
    "############################\n",
    "### Filter Configuration ###\n",
    "############################\n",
    "# Set quantization.\n",
    "filt.analysis.qout(2)\n",
    "filt.synthesis.qout(1)\n",
    "\n",
    "# Set mixer.\n",
    "filt.set_mixer_frequency(1000)\n",
    "\n",
    "# Enable all channels.\n",
    "filt.allon()\n",
    "\n",
    "# Set filter band.\n",
    "#filt.band(flow = 600, fhigh = 700, single=True)\n",
    "#filt.band(flow = 900, fhigh = 1050, single=False)\n",
    "#filt.band(flow = 1200, fhigh=1210, single=False)"
   ]
  },
  {
   "cell_type": "code",
   "execution_count": null,
   "metadata": {},
   "outputs": [],
   "source": []
  }
 ],
 "metadata": {
  "kernelspec": {
   "display_name": "Python 3 (ipykernel)",
   "language": "python",
   "name": "python3"
  },
  "language_info": {
   "codemirror_mode": {
    "name": "ipython",
    "version": 3
   },
   "file_extension": ".py",
   "mimetype": "text/x-python",
   "name": "python",
   "nbconvert_exporter": "python",
   "pygments_lexer": "ipython3",
   "version": "3.10.4"
  }
 },
 "nbformat": 4,
 "nbformat_minor": 4
}
