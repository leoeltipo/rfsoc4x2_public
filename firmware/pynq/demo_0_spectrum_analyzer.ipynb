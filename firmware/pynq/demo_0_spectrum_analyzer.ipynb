{
 "cells": [
  {
   "cell_type": "markdown",
   "metadata": {},
   "source": [
    "# Signal Generation and Spectrum Analyzer\n",
    "This example notebooks shows how to use the Synthesis Polyphase Filter Bank to generate multi-tone outputs, and the Analysis PFB as a generic instrument like a spectrum analyzer.\n",
    "\n",
    "I used this notebook with some external components:\n",
    "* Noise source: Agilent 346B (with some amplifiers to make it bigger).\n",
    "* RF splitter/combiner: TB-EP4RKUC+.\n",
    "* Input: ADC_D\n",
    "* Output: DAC_B\n",
    "\n",
    "### Signal Generation\n",
    "Each channel of the Synthesis PFB has one DDS block connected to it. This DDS is shared and feeds the fine down-conversion that follows the Analysis PFB.\n",
    "Only one DDS is connected to a specific Synthesis PFB channel. It means that only one tone can be generated on that channel, or none. To generate mulitple output tones, frequencies are spread to cover multiple PFB channels.\n",
    "\n",
    "### Spectrum Analyzer\n",
    "For the Spectrum Analyzer functionality, specific channels from the Analysis PFB are selected and their output data samples streamed into Python (numpy) buffers. This functions are all inside the drivers folder if you want to take a look at how that works. To make life easier, convenient functions exist that allow to grab the PFB channel whose center is closer to the specified frequency. The _get_bin_ function does this job.\n",
    "Two examples are available. The first example will grab all channels to cover a freuency band specified with fstart and fend. Then, the FFT is computed and channels are shown side by side adding the corresponding ADC mixer and channel frequency offset to map into the real-world frequency axis.\n",
    "The second example shows two channels to emphasize the overlapping structure of the PFB. This second example allows to see more closely how one of the channels exhibits unity gain, while the channel to the right has a slightly lower gain."
   ]
  },
  {
   "cell_type": "code",
   "execution_count": null,
   "metadata": {},
   "outputs": [],
   "source": [
    "import sys\n",
    "sys.path.append('./soft')\n",
    "\n",
    "from pfbs import *\n",
    "\n",
    "import numpy as np\n",
    "import matplotlib.pyplot as plt\n",
    "from numpy.fft import fft, fftshift"
   ]
  },
  {
   "cell_type": "code",
   "execution_count": null,
   "metadata": {
    "scrolled": false
   },
   "outputs": [],
   "source": [
    "# Initialize Firmware.\n",
    "soc = TopSoc('./pfbs_v1.bit')\n",
    "\n",
    "# Print information.\n",
    "print(soc)"
   ]
  },
  {
   "cell_type": "code",
   "execution_count": null,
   "metadata": {},
   "outputs": [],
   "source": [
    "################################################\n",
    "### Initialize Analysis and Synthesis Chains ###\n",
    "################################################\n",
    "\n",
    "# Dual Chain: it includes both analysis and synthesis chains.\n",
    "dual = KidsChain(soc, dual=soc['dual'][0])\n",
    "\n",
    "# Set ADC/DAC mixer frequency.\n",
    "dual.set_mixer_frequency(1000)\n",
    "\n",
    "# Analysis Chain: used as input for spectrum analyzer functionality.\n",
    "analysis_ch = dual.analysis\n",
    "analysis_ch.source(\"input\") # by-pass dds product.\n",
    "\n",
    "# Synthesis Chain: used as output for signal generation.\n",
    "synthesis_ch = dual.synthesis"
   ]
  },
  {
   "cell_type": "code",
   "execution_count": null,
   "metadata": {},
   "outputs": [],
   "source": [
    "##################################\n",
    "### Generate some output tones ###\n",
    "##################################\n",
    "# Disable all outputs.\n",
    "synthesis_ch.alloff()\n",
    "\n",
    "# Set DAC mixer frequency.\n",
    "#synthesis_ch.set_mixer_frequency(1000)\n",
    "\n",
    "# Set quantization.\n",
    "synthesis_ch.qout(2)\n",
    "\n",
    "# Set tones.\n",
    "f_v = np.linspace(1100,1110,5)\n",
    "for f in f_v:\n",
    "    print(\"f = {} MHz\".format(f))\n",
    "    synthesis_ch.set_tone_simple(f=f, g=0.5)"
   ]
  },
  {
   "cell_type": "code",
   "execution_count": null,
   "metadata": {
    "scrolled": false
   },
   "outputs": [],
   "source": [
    "#########################\n",
    "### Spectrum Analyzer ###\n",
    "#########################\n",
    "# Decimation.\n",
    "analysis_ch.set_decimation(1)\n",
    "analysis_ch.qout(2)\n",
    "\n",
    "# Frequency range.\n",
    "fstart = 1095\n",
    "fend   = 1115\n",
    "f = np.arange(fstart, fend, analysis_ch.fc_ch)\n",
    "print(\"Spectrum\")\n",
    "print(\"fstart = {} MHz, fend = {} MHz, fc = {} MHz\".format(fstart, fend, analysis_ch.fc_ch))\n",
    "\n",
    "# Frequency and amplitude vectors.\n",
    "FF = []\n",
    "AA = []\n",
    "plt.figure(dpi=150);\n",
    "for i,fck in enumerate(f):\n",
    "    print(\"i = {}, fck = {} MHz\".format(i,fck))\n",
    "    \n",
    "    # Transfer data.\n",
    "    [xi,xq] = analysis_ch.get_bin(fck)\n",
    "    x = xi + 1j*xq\n",
    "    \n",
    "    # Frequency vector.\n",
    "    F = (np.arange(len(x))/len(x)-0.5)*analysis_ch.fs_ch    \n",
    "    \n",
    "    # Normalization factor.\n",
    "    NF = (2**15)*len(F)\n",
    "\n",
    "    w = np.hanning(len(x))\n",
    "    xw = x*w\n",
    "    YY = fftshift(fft(xw))\n",
    "    YYlog = 20*np.log10(abs(YY)/NF)\n",
    "    AA = np.concatenate((AA,YYlog))\n",
    "    \n",
    "    Fk = F+fck\n",
    "    FF = np.concatenate((FF,Fk))\n",
    "    plt.plot(Fk,YYlog);\n",
    "plt.xlabel(\"Frequency [MHz]\");\n",
    "plt.ylabel(\"Amplitude [dB]\");\n",
    "plt.savefig('spectrum_0.jpg')"
   ]
  },
  {
   "cell_type": "code",
   "execution_count": null,
   "metadata": {},
   "outputs": [],
   "source": [
    "#######################################\n",
    "### Detail of two neighbor channels ###\n",
    "#######################################\n",
    "# Transfer data.\n",
    "[xi,xq] = analysis_ch.get_bin(1100)\n",
    "x1 = xi + 1j*xq\n",
    "[xi,xq] = analysis_ch.get_bin(1101)\n",
    "x2 = xi + 1j*xq\n",
    "    \n",
    "# Spectrum.\n",
    "F = (np.arange(len(x1))/len(x1)-0.5)*analysis_ch.fs_ch    \n",
    "w = np.hanning(len(x1))\n",
    "\n",
    "# Normalization factor.\n",
    "NF = (2**15)*len(F)\n",
    "\n",
    "xw1 = x1*w\n",
    "Y1 = fftshift(fft(xw1))\n",
    "Y1log = 20*np.log10(abs(Y1)/NF)\n",
    "xw2 = x2*w\n",
    "Y2 = fftshift(fft(xw2))\n",
    "Y2log = 20*np.log10(abs(Y2)/NF)\n",
    "\n",
    "plt.figure(dpi=150);\n",
    "plt.plot(F,Y1log,label='channel k');\n",
    "plt.plot(F+analysis_ch.fc_ch,Y2log,label='channel k+1');\n",
    "plt.legend();\n",
    "plt.xlabel(\"Frequency [MHz]\");\n",
    "plt.ylabel(\"Amplitude [dB]\");\n",
    "plt.savefig('spectrum_1.jpg')"
   ]
  }
 ],
 "metadata": {
  "kernelspec": {
   "display_name": "Python 3 (ipykernel)",
   "language": "python",
   "name": "python3"
  },
  "language_info": {
   "codemirror_mode": {
    "name": "ipython",
    "version": 3
   },
   "file_extension": ".py",
   "mimetype": "text/x-python",
   "name": "python",
   "nbconvert_exporter": "python",
   "pygments_lexer": "ipython3",
   "version": "3.10.4"
  }
 },
 "nbformat": 4,
 "nbformat_minor": 4
}
